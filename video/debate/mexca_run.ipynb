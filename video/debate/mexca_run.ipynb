{
 "cells": [
  {
   "cell_type": "markdown",
   "metadata": {},
   "source": [
    "# Run mexca's video pipeline on the test set"
   ]
  },
  {
   "cell_type": "code",
   "execution_count": null,
   "metadata": {},
   "outputs": [],
   "source": [
    "from urllib.request import urlopen\n",
    "import os\n",
    "import pandas as pd\n",
    "from IPython.display import Video\n",
    "from mexca.video.extraction import FaceExtractor"
   ]
  },
  {
   "cell_type": "code",
   "execution_count": null,
   "metadata": {},
   "outputs": [],
   "source": [
    "f = open('list_clips_.txt','r')\n",
    "for filepath in f.readlines():\n",
    "    n_clusters = int(filepath.strip().split(\"/\")[-1].split('_')[0])\n",
    "\n",
    "    video = FaceExtractor(\n",
    "        au_model = 'JAANET',\n",
    "        landmark_model='PFLD',\n",
    "        min_clusters = n_clusters,\n",
    "        max_clusters = n_clusters\n",
    "    )\n",
    "    print(f'Computing video @ {filepath} ...')\n",
    "    print(f'Using {n_clusters} clusters')\n",
    "    output = video.apply(filepath.strip())\n",
    "    output_df = pd.DataFrame(output)\n",
    "    output_fname = filepath.split('/')[-1].split('.')[0]+'.csv'\n",
    "    output_df.to_csv(output_fname,index=False)\n",
    "    print(f'result saved @ {output_fname}')"
   ]
  }
 ],
 "metadata": {
  "kernelspec": {
   "display_name": "Python 3.9.13 ('mexca_october_22')",
   "language": "python",
   "name": "python3"
  },
  "language_info": {
   "codemirror_mode": {
    "name": "ipython",
    "version": 3
   },
   "file_extension": ".py",
   "mimetype": "text/x-python",
   "name": "python",
   "nbconvert_exporter": "python",
   "pygments_lexer": "ipython3",
   "version": "3.9.13 | packaged by conda-forge | (main, May 27 2022, 17:00:33) \n[Clang 13.0.1 ]"
  },
  "orig_nbformat": 4,
  "vscode": {
   "interpreter": {
    "hash": "001e1c0fa8f3df81934e2d8f25d5607606c89bdb27a35bc13df9b3192171a0f0"
   }
  }
 },
 "nbformat": 4,
 "nbformat_minor": 2
}
