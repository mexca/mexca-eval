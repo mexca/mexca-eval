{
 "cells": [
  {
   "cell_type": "markdown",
   "metadata": {},
   "source": [
    "# Create Concatenated Datasets\n",
    "\n",
    "In this notebook, we create video clips to evaluate **mexca**'s perfomance on face identification. We select shots from the Dutch election debate 2021 and concatenate them to a new video file. For each of the 15 different faces in the video, shots that contain that contain the face are selected until a maximum number of seconds is reached. Thus, every face is presented approximately equally (i.e, in the same number of frames) to simulate an ideal condition for unsupervised face identification.\n",
    "\n",
    "For the maximum number of seconds each face is presented, we choose 30s, 60s, and 180s to get an impression on how the duration influences the identification performance. We expect that longer duration should lead to better performance."
   ]
  },
  {
   "cell_type": "code",
   "execution_count": 1,
   "metadata": {},
   "outputs": [],
   "source": [
    "import os\n",
    "import json\n",
    "import numpy as np\n",
    "import pandas as pd\n",
    "from moviepy.editor import VideoFileClip, concatenate_videoclips"
   ]
  },
  {
   "cell_type": "code",
   "execution_count": 2,
   "metadata": {},
   "outputs": [],
   "source": [
    "# Static variables\n",
    "ANNOTATION_PATH = 'camera_shots_coding.csv'\n",
    "PREFIX = os.path.join('datasets', 'debate_conc_shots')\n",
    "NUM_LABELS = 15\n",
    "MAX_DURATION = (30.0, 60.0, 180.0)"
   ]
  },
  {
   "cell_type": "code",
   "execution_count": 3,
   "metadata": {},
   "outputs": [],
   "source": [
    "def cut_time(time):\n",
    "    \"\"\"Strip milliseconds from time format.\n",
    "    \"\"\"\n",
    "    time_split = str(time).split(\":\")\n",
    "    out = ':'.join(time_split[:-1])\n",
    "    return out"
   ]
  },
  {
   "cell_type": "code",
   "execution_count": 4,
   "metadata": {},
   "outputs": [],
   "source": [
    "def format_time_cols(df):\n",
    "    \"\"\"Create and format time related columns in data frame.\n",
    "    \"\"\"\n",
    "    df['start_shot'] = pd.to_timedelta(df['begin_frame'].apply(cut_time))\n",
    "    df['duration'] = np.abs(df['start_shot'].diff(periods=-1))\n",
    "    df['end_shot'] = df['start_shot'] + df['duration']\n",
    "\n",
    "    return df"
   ]
  },
  {
   "cell_type": "code",
   "execution_count": 5,
   "metadata": {},
   "outputs": [],
   "source": [
    "def read_annotation_df(filepath):\n",
    "    \"\"\"Read and format annotation csv.\n",
    "    \"\"\"\n",
    "    annotation_df = format_time_cols(\n",
    "        pd.read_csv(filepath, sep=';')\n",
    "    )\n",
    "\n",
    "    return annotation_df\n"
   ]
  },
  {
   "cell_type": "code",
   "execution_count": 6,
   "metadata": {},
   "outputs": [],
   "source": [
    "def get_unique_labels(df):\n",
    "    \"\"\"Get unique face labels from data frame. Remove 'nan' and 'group'.\n",
    "    \"\"\"\n",
    "    unique_labels = np.unique(\n",
    "        df.face_1.unique().tolist() + \n",
    "        df.face_2.unique().tolist() + \n",
    "        df.face_3.unique().tolist()\n",
    "    )\n",
    "    unique_labels = [l for l in unique_labels if l not in ['nan', 'group']]\n",
    "\n",
    "    return unique_labels"
   ]
  },
  {
   "cell_type": "code",
   "execution_count": 7,
   "metadata": {},
   "outputs": [],
   "source": [
    "def select_shots(df, max_duration, num_labels):\n",
    "    \"\"\"Select shots for data set until for each face label the total duration of shots amounts to `max_duration`.\n",
    "    \"\"\"\n",
    "    unique_labels = get_unique_labels(df)[:(num_labels + 1)]\n",
    "\n",
    "    labels_duration = {}\n",
    "\n",
    "    for label in unique_labels:\n",
    "        labels_duration[label] = []\n",
    "\n",
    "    selected_shot_names = {}\n",
    "\n",
    "    for row_tuple in df.itertuples():\n",
    "        faces = (row_tuple.face_1, row_tuple.face_1, row_tuple.face_1)\n",
    "        filename = row_tuple.filename\n",
    "\n",
    "        # Check if shot is already selected\n",
    "        if filename not in selected_shot_names:\n",
    "            for face in faces:\n",
    "                # Check if face is selected and whether the total duration is below maximum\n",
    "                if str(face) in unique_labels and np.sum(labels_duration[face]) < max_duration:\n",
    "                    selected_shot_names[row_tuple.shot_id] = filename\n",
    "                    # Add duration of shot to record\n",
    "                    labels_duration[face].append(row_tuple.duration.total_seconds())\n",
    "\n",
    "    for label in labels_duration:\n",
    "        print(label, np.sum(labels_duration[label]))\n",
    "\n",
    "    return selected_shot_names"
   ]
  },
  {
   "cell_type": "code",
   "execution_count": 8,
   "metadata": {},
   "outputs": [],
   "source": [
    "def get_shot_filepaths(shot_names):\n",
    "    \"\"\"Get the relative filepaths of selected shots.\n",
    "    \"\"\"\n",
    "    filenames = []\n",
    "\n",
    "    for shot in shot_names:\n",
    "        # Get batch folder number\n",
    "        batch = int(np.ceil(shot/50))\n",
    "        filename = shot_names[shot] + '.mp4'\n",
    "        path = os.path.join('shots', f'batch{batch}', filename)\n",
    "        # Check if filepath exists\n",
    "        exists = os.path.exists(path)\n",
    "        if exists:\n",
    "            filenames.append(path)\n",
    "        else:\n",
    "            print(shot, batch, filename, path)\n",
    "\n",
    "    return filenames"
   ]
  },
  {
   "cell_type": "code",
   "execution_count": 9,
   "metadata": {},
   "outputs": [],
   "source": [
    "def create_video_clip(filenames, outname):\n",
    "    \"\"\"Create a video clip by concatenating selected shots.\n",
    "    \"\"\"\n",
    "    clips = []\n",
    "\n",
    "    for filename in filenames:\n",
    "        clip = VideoFileClip(filename)\n",
    "        clips.append(clip)\n",
    "\n",
    "    conc_clip = concatenate_videoclips(clips)\n",
    "\n",
    "    if not os.path.exists(outname):\n",
    "        conc_clip.write_videofile(outname)\n",
    "\n",
    "    return conc_clip.fps\n"
   ]
  },
  {
   "cell_type": "code",
   "execution_count": 10,
   "metadata": {},
   "outputs": [],
   "source": [
    "def create_annotation_file(df, shot_names, fps, outname):\n",
    "    \"\"\"Create an annotation csv for the concatenated shots.\n",
    "    \"\"\"\n",
    "    conc_annotation = {\n",
    "        'shot_id': [],\n",
    "        'shot_name': [],\n",
    "        'frame': [],\n",
    "        'time': [],\n",
    "        'face_label': []\n",
    "    }\n",
    "\n",
    "    frame = 0\n",
    "    start_t = 0.0\n",
    "\n",
    "    for row_tuple in df.itertuples():\n",
    "        shot_name = row_tuple.filename\n",
    "\n",
    "        # Check if shot is selected\n",
    "        if shot_name in shot_names.values():\n",
    "            shot_id = row_tuple.shot_id\n",
    "            dur = row_tuple.duration.total_seconds()\n",
    "            # Create new timestamps\n",
    "            times = np.linspace(start_t, start_t+dur, int(dur*fps))\n",
    "            labels = (row_tuple.face_1, row_tuple.face_2, row_tuple.face_3)\n",
    "            for i, t in enumerate(times):\n",
    "                for label in labels:\n",
    "                    if not pd.isna(label):\n",
    "                        conc_annotation['shot_id'].append(shot_id)\n",
    "                        conc_annotation['shot_name'].append(shot_name)\n",
    "                        conc_annotation['frame'].append(frame + i)\n",
    "                        conc_annotation['time'].append(round(t, 3))\n",
    "                        conc_annotation['face_label'].append(label)\n",
    "\n",
    "            # Update timestamp and frame\n",
    "            start_t += dur\n",
    "            frame += int(dur*fps)\n",
    "\n",
    "    # Export to csv\n",
    "    pd.DataFrame(conc_annotation).to_csv(outname)"
   ]
  },
  {
   "cell_type": "code",
   "execution_count": 11,
   "metadata": {},
   "outputs": [],
   "source": [
    "def create_dataset_from_selected_shots(filepath, prefix, max_duration, num_labels):\n",
    "    annotation_df = read_annotation_df(filepath)\n",
    "\n",
    "    selected_shot_names = select_shots(\n",
    "        annotation_df,\n",
    "        max_duration,\n",
    "        num_labels\n",
    "    )\n",
    "\n",
    "    filenames = get_shot_filepaths(selected_shot_names)\n",
    "\n",
    "    fps = create_video_clip(\n",
    "        filenames,\n",
    "        prefix + f'_{num_labels}spk_{int(max_duration)}s.mp4'\n",
    "    )\n",
    "\n",
    "    create_annotation_file(\n",
    "        annotation_df,\n",
    "        selected_shot_names,\n",
    "        fps,\n",
    "        prefix + f'_{num_labels}spk_{int(max_duration)}s.csv'\n",
    "    )\n"
   ]
  },
  {
   "cell_type": "code",
   "execution_count": 12,
   "metadata": {},
   "outputs": [],
   "source": [
    "def write_metadata_file(prefix, max_duration, num_labels):\n",
    "    \"\"\"Link video clips and annotations in metadata json file.\n",
    "    \"\"\"\n",
    "    metadata = {}\n",
    "\n",
    "    for dur in max_duration:\n",
    "        metadata[str(dur)] = {\n",
    "            'video': prefix + f'_{num_labels}spk_{int(dur)}s.mp4',\n",
    "            'annotation': prefix + f'_{num_labels}spk_{int(dur)}s.csv'\n",
    "        }\n",
    "\n",
    "    with open(prefix + '_datasets.json', 'w') as file:\n",
    "        json.dump(metadata, file)"
   ]
  },
  {
   "cell_type": "code",
   "execution_count": 13,
   "metadata": {},
   "outputs": [
    {
     "name": "stdout",
     "output_type": "stream",
     "text": [
      "Hoekstra 30.0\n",
      "Kaag 30.0\n",
      "Klaver 33.0\n",
      "Marijnissen 33.0\n",
      "Rutte 30.0\n",
      "Wilders 30.0\n",
      "citizen1 37.0\n",
      "citizen2_f 30.0\n",
      "citizen2_m 21.0\n",
      "citizen3 30.0\n",
      "citizen4 42.0\n",
      "citizen5 36.0\n",
      "citizen6 33.0\n",
      "mod_f 40.0\n",
      "mod_m 33.0\n",
      "Moviepy - Building video datasets\\debate_conc_shots_15spk_30s.mp4.\n",
      "MoviePy - Writing audio in debate_conc_shots_15spk_30sTEMP_MPY_wvf_snd.mp3\n"
     ]
    },
    {
     "name": "stderr",
     "output_type": "stream",
     "text": [
      "                                                                      \r"
     ]
    },
    {
     "name": "stdout",
     "output_type": "stream",
     "text": [
      "MoviePy - Done.\n",
      "Moviepy - Writing video datasets\\debate_conc_shots_15spk_30s.mp4\n",
      "\n"
     ]
    },
    {
     "name": "stderr",
     "output_type": "stream",
     "text": [
      "                                                                \r"
     ]
    },
    {
     "name": "stdout",
     "output_type": "stream",
     "text": [
      "Moviepy - Done !\n",
      "Moviepy - video ready datasets\\debate_conc_shots_15spk_30s.mp4\n",
      "Hoekstra 86.0\n",
      "Kaag 60.0\n",
      "Klaver 66.0\n",
      "Marijnissen 60.0\n",
      "Rutte 60.0\n",
      "Wilders 63.0\n",
      "citizen1 60.0\n",
      "citizen2_f 60.0\n",
      "citizen2_m 21.0\n",
      "citizen3 66.0\n",
      "citizen4 61.0\n",
      "citizen5 63.0\n",
      "citizen6 61.0\n",
      "mod_f 66.0\n",
      "mod_m 62.0\n",
      "Moviepy - Building video datasets\\debate_conc_shots_15spk_60s.mp4.\n",
      "MoviePy - Writing audio in debate_conc_shots_15spk_60sTEMP_MPY_wvf_snd.mp3\n"
     ]
    },
    {
     "name": "stderr",
     "output_type": "stream",
     "text": [
      "                                                                      \r"
     ]
    },
    {
     "name": "stdout",
     "output_type": "stream",
     "text": [
      "MoviePy - Done.\n",
      "Moviepy - Writing video datasets\\debate_conc_shots_15spk_60s.mp4\n",
      "\n"
     ]
    },
    {
     "name": "stderr",
     "output_type": "stream",
     "text": [
      "                                                                \r"
     ]
    },
    {
     "name": "stdout",
     "output_type": "stream",
     "text": [
      "Moviepy - Done !\n",
      "Moviepy - video ready datasets\\debate_conc_shots_15spk_60s.mp4\n",
      "Hoekstra 180.0\n",
      "Kaag 186.0\n",
      "Klaver 180.0\n",
      "Marijnissen 180.0\n",
      "Rutte 189.0\n",
      "Wilders 180.0\n",
      "citizen1 183.0\n",
      "citizen2_f 180.0\n",
      "citizen2_m 21.0\n",
      "citizen3 180.0\n",
      "citizen4 180.0\n",
      "citizen5 183.0\n",
      "citizen6 182.0\n",
      "mod_f 180.0\n",
      "mod_m 180.0\n",
      "Moviepy - Building video datasets\\debate_conc_shots_15spk_180s.mp4.\n",
      "MoviePy - Writing audio in debate_conc_shots_15spk_180sTEMP_MPY_wvf_snd.mp3\n"
     ]
    },
    {
     "name": "stderr",
     "output_type": "stream",
     "text": [
      "                                                                       \r"
     ]
    },
    {
     "name": "stdout",
     "output_type": "stream",
     "text": [
      "MoviePy - Done.\n",
      "Moviepy - Writing video datasets\\debate_conc_shots_15spk_180s.mp4\n",
      "\n"
     ]
    },
    {
     "name": "stderr",
     "output_type": "stream",
     "text": [
      "                                                                  \r"
     ]
    },
    {
     "name": "stdout",
     "output_type": "stream",
     "text": [
      "Moviepy - Done !\n",
      "Moviepy - video ready datasets\\debate_conc_shots_15spk_180s.mp4\n"
     ]
    }
   ],
   "source": [
    "for dur in MAX_DURATION:\n",
    "    create_dataset_from_selected_shots(ANNOTATION_PATH, PREFIX, dur, NUM_LABELS)"
   ]
  },
  {
   "cell_type": "code",
   "execution_count": 14,
   "metadata": {},
   "outputs": [],
   "source": [
    "write_metadata_file(PREFIX, MAX_DURATION, NUM_LABELS)"
   ]
  }
 ],
 "metadata": {
  "kernelspec": {
   "display_name": "Python 3.9.7 ('mexca-eval': venv)",
   "language": "python",
   "name": "python3"
  },
  "language_info": {
   "codemirror_mode": {
    "name": "ipython",
    "version": 3
   },
   "file_extension": ".py",
   "mimetype": "text/x-python",
   "name": "python",
   "nbconvert_exporter": "python",
   "pygments_lexer": "ipython3",
   "version": "3.9.7"
  },
  "orig_nbformat": 4,
  "vscode": {
   "interpreter": {
    "hash": "35a17bbd46cd6fe613d53c4a90c3dbc3db00f0f16cc4d5efee08a2441e210d7b"
   }
  }
 },
 "nbformat": 4,
 "nbformat_minor": 2
}
